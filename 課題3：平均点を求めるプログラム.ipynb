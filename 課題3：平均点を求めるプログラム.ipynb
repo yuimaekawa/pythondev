{
 "cells": [
  {
   "cell_type": "code",
   "execution_count": 3,
   "id": "1b63ebd7",
   "metadata": {},
   "outputs": [
    {
     "name": "stdout",
     "output_type": "stream",
     "text": [
      "10人のテストの平均点は73.4点です\n"
     ]
    }
   ],
   "source": [
    "count=0\n",
    "score_sum=0\n",
    "while True:\n",
    "    score=input(\"点数を入力してください：\")\n",
    "\n",
    "    if score == \"-1\":\n",
    "        break\n",
    "\n",
    "    count += 1\n",
    "    score_sum+=int(score)\n",
    "\n",
    "print(f\"{count}人のテストの平均点は{round(score_sum/count,1)}点です\")"
   ]
  }
 ],
 "metadata": {
  "kernelspec": {
   "display_name": ".venv",
   "language": "python",
   "name": "python3"
  },
  "language_info": {
   "codemirror_mode": {
    "name": "ipython",
    "version": 3
   },
   "file_extension": ".py",
   "mimetype": "text/x-python",
   "name": "python",
   "nbconvert_exporter": "python",
   "pygments_lexer": "ipython3",
   "version": "3.12.10"
  }
 },
 "nbformat": 4,
 "nbformat_minor": 5
}
