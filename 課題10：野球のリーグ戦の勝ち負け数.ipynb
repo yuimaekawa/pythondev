{
 "cells": [
  {
   "cell_type": "code",
   "execution_count": 23,
   "id": "fe29eed7",
   "metadata": {},
   "outputs": [],
   "source": [
    "class Baseball_Team:\n",
    "    def __init__(self,name,win,lose,draw):\n",
    "        self.name=name\n",
    "        self.win=win\n",
    "        self.lose=lose\n",
    "        self.draw=draw\n",
    "\n",
    "    def calc_win_rate(self):\n",
    "        return self.win/(self.win+self.lose)\n",
    "    \n",
    "    def show_team_result(self):\n",
    "        print(f\"{self.name:<10s} {self.win:>4d} {self.lose:>5d} {self.draw:>5d} {self.calc_win_rate():<6.3f}\")"
   ]
  },
  {
   "cell_type": "code",
   "execution_count": 24,
   "id": "8c5b11c0",
   "metadata": {},
   "outputs": [
    {
     "name": "stdout",
     "output_type": "stream",
     "text": [
      "team        win  lose  draw rate  \n",
      "Archers      77    64     2 0.546 \n",
      "Meteors      71    69     3 0.507 \n",
      "Cheetahs     69    68     6 0.504 \n",
      "Sharks       70    70     3 0.500 \n",
      "Pythons      68    73     2 0.482 \n",
      "Owls         59    82     2 0.418 \n"
     ]
    }
   ],
   "source": [
    "teams=[]\n",
    "\n",
    "teams.append(Baseball_Team(\"Archers\",77,64,2))\n",
    "teams.append(Baseball_Team(\"Meteors\",71,69,3))\n",
    "teams.append(Baseball_Team(\"Cheetahs\",69,68,6))\n",
    "teams.append(Baseball_Team(\"Sharks\",70,70,3))\n",
    "teams.append(Baseball_Team(\"Pythons\",68,73,2))\n",
    "teams.append(Baseball_Team(\"Owls\",59,82,2))\n",
    "\n",
    "print(f\"{'team':<10s} {'win':>4s} {'lose':>5s} {'draw':>5s} {'rate':<6s}\")\n",
    "for team in teams:\n",
    "    team.show_team_result()"
   ]
  }
 ],
 "metadata": {
  "kernelspec": {
   "display_name": ".venv",
   "language": "python",
   "name": "python3"
  },
  "language_info": {
   "codemirror_mode": {
    "name": "ipython",
    "version": 3
   },
   "file_extension": ".py",
   "mimetype": "text/x-python",
   "name": "python",
   "nbconvert_exporter": "python",
   "pygments_lexer": "ipython3",
   "version": "3.12.10"
  }
 },
 "nbformat": 4,
 "nbformat_minor": 5
}
