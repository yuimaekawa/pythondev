{
 "cells": [
  {
   "cell_type": "code",
   "execution_count": 3,
   "id": "6b345b20",
   "metadata": {},
   "outputs": [
    {
     "name": "stdout",
     "output_type": "stream",
     "text": [
      "税抜価格を入力してください：1800\n",
      "送料として350円かかります\n",
      "送料込みの価格は2330円です。\n"
     ]
    }
   ],
   "source": [
    "print(\"税抜価格を入力してください：\", end=\"\")\n",
    "price = int(input())\n",
    "print(price)\n",
    "\n",
    "if price >=2000:\n",
    "    print(\"送料は無料です\")\n",
    "    price *= 1.1\n",
    "else:\n",
    "    print(\"送料として350円かかります\")\n",
    "    price = price * 1.1 + 350\n",
    "\n",
    "print(f\"送料込みの価格は{round(price)}円です。\")"
   ]
  },
  {
   "cell_type": "code",
   "execution_count": null,
   "id": "4b265453",
   "metadata": {},
   "outputs": [],
   "source": []
  },
  {
   "cell_type": "code",
   "execution_count": null,
   "id": "7addbcda",
   "metadata": {},
   "outputs": [],
   "source": []
  }
 ],
 "metadata": {
  "kernelspec": {
   "display_name": ".venv",
   "language": "python",
   "name": "python3"
  },
  "language_info": {
   "codemirror_mode": {
    "name": "ipython",
    "version": 3
   },
   "file_extension": ".py",
   "mimetype": "text/x-python",
   "name": "python",
   "nbconvert_exporter": "python",
   "pygments_lexer": "ipython3",
   "version": "3.12.10"
  }
 },
 "nbformat": 4,
 "nbformat_minor": 5
}
