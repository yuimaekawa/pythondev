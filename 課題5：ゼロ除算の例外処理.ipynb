{
 "cells": [
  {
   "cell_type": "code",
   "execution_count": 4,
   "id": "6c79950c",
   "metadata": {},
   "outputs": [
    {
     "name": "stdout",
     "output_type": "stream",
     "text": [
      "エラー：0で割り算しないでください\n",
      "処理を終了します\n"
     ]
    }
   ],
   "source": [
    "try:\n",
    "    a = int(input(\"割られる数を入力してください：\"))\n",
    "    b = int(input(\"割る数を入力してください：\"))\n",
    "\n",
    "    c = a / b\n",
    "\n",
    "    print(f\"{a} ÷ {b} = {c}\")\n",
    "\n",
    "except ZeroDivisionError:\n",
    "    print(\"エラー：0で割り算しないでください\")\n",
    "except ValueError:\n",
    "    print(\"エラー：数値を入力してください\")\n",
    "\n",
    "print(\"処理を終了します\")"
   ]
  }
 ],
 "metadata": {
  "kernelspec": {
   "display_name": ".venv",
   "language": "python",
   "name": "python3"
  },
  "language_info": {
   "codemirror_mode": {
    "name": "ipython",
    "version": 3
   },
   "file_extension": ".py",
   "mimetype": "text/x-python",
   "name": "python",
   "nbconvert_exporter": "python",
   "pygments_lexer": "ipython3",
   "version": "3.12.10"
  }
 },
 "nbformat": 4,
 "nbformat_minor": 5
}
